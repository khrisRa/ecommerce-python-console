{
 "cells": [
  {
   "cell_type": "code",
   "execution_count": 1,
   "id": "5cb5844f",
   "metadata": {},
   "outputs": [],
   "source": [
    "import sqlite3\n",
    "import pandas as pd\n",
    "import sqlalchemy\n",
    "from tabulate import tabulate\n",
    "from matplotlib.pyplot import hist\n",
    "from matplotlib import pyplot as plt\n",
    "import numpy as np"
   ]
  },
  {
   "cell_type": "code",
   "execution_count": 2,
   "id": "b9d23dbc",
   "metadata": {
    "scrolled": false
   },
   "outputs": [],
   "source": [
    "engine = sqlalchemy.create_engine('sqlite:///ecom.db')"
   ]
  },
  {
   "cell_type": "code",
   "execution_count": 19,
   "id": "ffd7d175",
   "metadata": {
    "scrolled": false
   },
   "outputs": [
    {
     "name": "stdout",
     "output_type": "stream",
     "text": [
      "+--------------+--------------+------------+------------+-------------+--------------+\n",
      "| ITEM         |   Unit Price | Category   |   Quantity | Sale Date   |   Line Total |\n",
      "|--------------+--------------+------------+------------+-------------+--------------|\n",
      "| Tuna         |         1.17 | CANNED     |          1 | 2021 11 23  |         1.17 |\n",
      "| Cumin        |         4.17 | SPICE      |          2 | 2021 11 23  |         8.34 |\n",
      "| Safety shoes |        85.98 | SHOES      |          2 | 2021 11 18  |       171.96 |\n",
      "| Air force2   |        49.44 | SHOES      |          3 | 2021 11 18  |       148.32 |\n",
      "| Total        |       140.76 |            |          8 |             |       329.79 |\n",
      "+--------------+--------------+------------+------------+-------------+--------------+\n",
      "(array([3., 0., 0., 2., 0., 0., 2., 0., 0., 1.]), array([0. , 0.3, 0.6, 0.9, 1.2, 1.5, 1.8, 2.1, 2.4, 2.7, 3. ]), <BarContainer object of 10 artists>)\n"
     ]
    },
    {
     "data": {
      "text/plain": [
       "Text(0, 0.5, 'Quantity')"
      ]
     },
     "execution_count": 19,
     "metadata": {},
     "output_type": "execute_result"
    },
    {
     "data": {
      "image/png": "[encoded data removed]",
      "text/plain": [
       "<Figure size 432x288 with 1 Axes>"
      ]
     },
     "metadata": {
      "needs_background": "light"
     },
     "output_type": "display_data"
    }
   ],
   "source": [
    "#Sales Report\n",
    "df = pd.read_sql('SELECT desc as ITEM, price as \"Unit Price\", tag as Category, qty as Quantity, strftime(\"%Y %m %d\", date) as \"Sale Date\" FROM cart WHERE status = \"C\" ORDER BY date DESC', engine)\n",
    "df2 = df.set_index('ITEM')\n",
    "df2[\"Line Total\"] = df2[\"Unit Price\"]*df2[\"Quantity\"]\n",
    "df2.loc['Total'] = df2.sum(numeric_only=True)\n",
    "df2.fillna('', inplace=True)\n",
    "print(tabulate(df2, headers='keys', tablefmt='psql'))\n",
    "df3 = pd.read_sql('SELECT desc as ITEM, price as \"Unit Price\", tag as Category, qty as Quantity, strftime(\"%Y %m %d\", date) as \"Sale Date\" FROM cart WHERE status = \"C\" ORDER BY Quantity DESC', engine)\n",
    "df4 = df3.head()\n",
    "fig, ax =plt.subplots(1,1)\n",
    "print(ax.hist(df4.ITEM, weights=df4.Quantity))\n",
    "ax.set_title(\"Top Sales\")\n",
    "ax.set_xlabel('ITEMS')\n",
    "ax.set_ylabel('Quantity')\n"
   ]
  },
  {
   "cell_type": "code",
   "execution_count": null,
   "id": "692bd2d1",
   "metadata": {},
   "outputs": [],
   "source": []
  }
 ],
 "metadata": {
  "kernelspec": {
   "display_name": "Python 3",
   "language": "python",
   "name": "python3"
  },
  "language_info": {
   "codemirror_mode": {
    "name": "ipython",
    "version": 3
   },
   "file_extension": ".py",
   "mimetype": "text/x-python",
   "name": "python",
   "nbconvert_exporter": "python",
   "pygments_lexer": "ipython3",
   "version": "3.8.8"
  }
 },
 "nbformat": 4,
 "nbformat_minor": 5
}
